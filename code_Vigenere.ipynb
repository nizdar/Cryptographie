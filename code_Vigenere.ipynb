{
  "nbformat": 4,
  "nbformat_minor": 0,
  "metadata": {
    "colab": {
      "name": "code_Vigenere.ipynb",
      "provenance": [],
      "collapsed_sections": [],
      "mount_file_id": "1Ad2VWrXiRANojs4U5k70MrnDlkbgvuW3",
      "authorship_tag": "ABX9TyNgBraqW2m2d2MvGrJ8UVYd"
    },
    "kernelspec": {
      "name": "python3",
      "display_name": "Python 3"
    },
    "language_info": {
      "name": "python"
    }
  },
  "cells": [
    {
      "cell_type": "code",
      "metadata": {
        "id": "hqkRL1S53kWC"
      },
      "source": [
        "import code_cesar as cc"
      ],
      "execution_count": null,
      "outputs": []
    },
    {
      "cell_type": "markdown",
      "metadata": {
        "id": "WBxGXf4d2QiS"
      },
      "source": [
        "# Chiffrement de Vigénère"
      ]
    },
    {
      "cell_type": "markdown",
      "metadata": {
        "id": "z_Vc6T_-sKhN"
      },
      "source": [
        "Le code de Vigénère part du meme principe que le code de César, sauf qu'au lieu d'utiliser la meme clé de décalage pour tout le message à crypter on chiffre par bloc. On procède comme suivant : \n",
        "\n",
        "* On fixe une longueur de bloc $m$.\n",
        "* on choisit une clé de taille $m$, exemple $[n_1, n_2, \\cdots n_m]$\n",
        "* On découpe le message en blocs de taille $m$\n",
        "* pour chaque bloc on chiffre de la façon suivante : 1ère lettre avec chiffrement de César de clé $n_1$, 2ème lettre avec chiffrement de César de clé $n_2$ ..."
      ]
    },
    {
      "cell_type": "code",
      "metadata": {
        "id": "rNLF9GnxnGJq"
      },
      "source": [
        "#Completer \"texte\" par des \"X\" pour que la taille de \"texte\" soit divisible par m\n",
        "def Complete_texte(texte,m):\n",
        "    l=len(texte)\n",
        "    a=l%m\n",
        "    k=0\n",
        "    while a != 0 :\n",
        "        l+=1\n",
        "        k+=1\n",
        "        a=l%m\n",
        "    if k!=0:\n",
        "        for i in range(k):\n",
        "            texte+=\"X\" \n",
        "    return texte\n",
        "\n",
        "#La table de multiplication de m par les d premiers entiers-------------------\n",
        "def table_mult(m,d):\n",
        "    table=[]\n",
        "    for i in range(d):\n",
        "        table.append(m*i)\n",
        "    return table\n",
        "\n",
        "#Créer une liste de meme taille que chaine qui contient des X----------------\n",
        "def create_liste(chaine):\n",
        "    liste=[]\n",
        "    l=len(chaine)\n",
        "    for i in range(l):\n",
        "        liste.append(\"x\")\n",
        "    return liste\n",
        "\n",
        "#--------------------------------------------------------------------------\n",
        "# message : le texte qu'on veut crypter\n",
        "# cle : liste de longueur \"taille\" qui indique la clé de décalage pour chaque\n",
        "# bloque (il y a \"taille\" blocs)\n",
        "\n",
        "alphabet=\"ABCDEFGHIJKLMNOPQRSTUVWXYZ\"\n",
        "\n",
        "def code_vigenere_cryp(message,cle,taille):\n",
        "    #on veut que la taille du message soit divisible par le nombre de blocs \n",
        "    texte=Complete_texte(message,taille)\n",
        "    l=len(texte)\n",
        "    d=int(l/taille)\n",
        "    table=table_mult(taille,d)\n",
        "    code=create_liste(texte)\n",
        "    for j in range(taille) : \n",
        "        for i in table: \n",
        "            k=0 \n",
        "            s=j+i\n",
        "            while(k<26 and texte[s]!=alphabet[k]): \n",
        "                k+=1\n",
        "            p=(k+cle[j])%26 \n",
        "            code[s]=alphabet[p]\n",
        "    code=\"\".join(code)\n",
        "    return code \n",
        "#-------------------------------------------------------------------------"
      ],
      "execution_count": null,
      "outputs": []
    },
    {
      "cell_type": "code",
      "metadata": {
        "colab": {
          "base_uri": "https://localhost:8080/"
        },
        "id": "Qxwv-mNGpXIg",
        "outputId": "982f1af1-6d02-4f5d-f6b1-83657e31d618"
      },
      "source": [
        "c=\"CESYSTEMEDECODAGENESTPASSURMAISPLUSQUELECODEDECESARSILACLEESTLONGUE\"\n",
        "e=[3, 14, 7, 22, 19]\n",
        "print(code_vigenere_cryp(c,e,5))"
      ],
      "execution_count": null,
      "outputs": [
        {
          "output_type": "stream",
          "text": [
            "FSZULWSTAWHQVZTJSUALWDHOLXFTWBVDSQLTILHXFCKAWHQLOTUGPHTFZLALWZVJZXSETQ\n"
          ],
          "name": "stdout"
        }
      ]
    },
    {
      "cell_type": "markdown",
      "metadata": {
        "id": "NBDqVhkosJHk"
      },
      "source": [
        "Pour décrypter un message crypté avec un chiffrement de Vigénère, sachant qu'on connait la clé, on garde pratiquement la meme fonction code_vigenere_cryp sauf qu'il faut remplacer *p=(k+cle[j])%26* par *p=(k-cle[j])%26*."
      ]
    },
    {
      "cell_type": "code",
      "metadata": {
        "id": "LKDonkbYpojR"
      },
      "source": [
        " #message : le texte qu'on veut décrypter\n",
        "\n",
        "def code_vigenere_decr(message,cle,taille):\n",
        "    l=len(message)\n",
        "    d=int(l/taille)\n",
        "    table=table_mult(taille,d)\n",
        "    code=create_liste(message) \n",
        "    for j in range(taille) : \n",
        "        for i in table: \n",
        "            k=0 \n",
        "            s=j+i\n",
        "            while(k<26 and message[s]!=alphabet[k]): \n",
        "                k+=1\n",
        "            p=(k-cle[j])%26 \n",
        "            code[s]=alphabet[p]\n",
        "    code=\"\".join(code)\n",
        "    return code"
      ],
      "execution_count": null,
      "outputs": []
    },
    {
      "cell_type": "code",
      "metadata": {
        "colab": {
          "base_uri": "https://localhost:8080/"
        },
        "id": "u38i0y3Jq1zV",
        "outputId": "aacf9733-9856-4ac7-905c-fb91cd86c78f"
      },
      "source": [
        "t='FSZULWSTAWHQVZTJSUALWDHOLXFTWBVDSQLTILHXFCKAWHQLOTUGPHTFZLALWZVJZXSETQ'\n",
        "e=[3, 14, 7, 22, 19]\n",
        "print(code_vigenere_dec(t,e,5))"
      ],
      "execution_count": null,
      "outputs": [
        {
          "output_type": "stream",
          "text": [
            "CESYSTEMEDECODAGENESTPASSURMAISPLUSQUELECODEDECESARSILACLEESTLONGUEXXX\n"
          ],
          "name": "stdout"
        }
      ]
    },
    {
      "cell_type": "markdown",
      "metadata": {
        "id": "aj4fYZWUrPby"
      },
      "source": [
        "CE SYSTEME DE CODAGE NEST PAS SUR MAIS PLUS QUE LE CODE DE CESAR SI LA CLE EST LONGUE XXX\n"
      ]
    },
    {
      "cell_type": "markdown",
      "metadata": {
        "id": "jgDhrwnT1oBX"
      },
      "source": [
        "# Cryptanalyse des codes de Vigenère."
      ]
    },
    {
      "cell_type": "markdown",
      "metadata": {
        "id": "3ZOYn0Np2Zw1"
      },
      "source": [
        "OSFFBDWCJFDAPSGSYWJSQSUSQSVHSZXGFCQGLRHFHRHBRGMCXFVQRAPSXBSFRHRQRZHGXF\n",
        "\n",
        "Supposant maintenant qu'on veut décoder le message ci-dessus sachant qu’il a été crypté avec un code de Vigenère d’une clé de longueur 2. Pour cela on procède comme suivant :\n",
        "\n",
        "a) Subdiviser le message en block de taille 2\n",
        "\n",
        "OS FF BD WC JF DA PS GS YW JS QS US QS VH SZ XG FC QG LR HF HR HB RG MC XF VQ RA PS XB SF RH RQ RZ HG XF\n",
        "\n",
        "b) Regrouper les lettres qui sont codées avec le même chiffrement de César :\n",
        "\n",
        "Dans notre cas on a deux sous codes (puisqu’on a une clé de longueur 2)\n",
        "\n",
        "* code1=\"OFBWJDPGYJQUQVSXFQLHHHRMXVRPXSRRRHX\"\n",
        "* code2=\"SFDCFASSWSSSSHZGCGRFRBGCFQASBFHQZGF\"\n",
        "\n",
        "c) Analyse de fréquences\n",
        "\n",
        "Code1 et code2 sont cryptés avec un chiffrement de César d’une clé inconnue, pour les décrypter on utilisera alors l’analyse de fréquence.\n",
        "A l’aide de notre fonction *affiche_stat(code)* du fichier code_cesar.py, on va afficher les statistiques d’occurrence des lettres dans les deux sous codes."
      ]
    },
    {
      "cell_type": "code",
      "metadata": {
        "colab": {
          "base_uri": "https://localhost:8080/",
          "height": 299
        },
        "id": "HzkBEGXl6hvG",
        "outputId": "e3a0f65d-5378-4c65-a377-d5ccf3bc83a5"
      },
      "source": [
        "code1=\"OFBWJDPGYJQUQVSXFQLHHHRMXVRPXSRRRHX\"\n",
        "code2=\"SFDCFASSWSSSSHZGCGRFRBGCFQASBFHQZGF\"\n",
        "\n",
        "print('Statistiques d\\'occurence de code1' )\n",
        "cc.affiche_stat(code1)"
      ],
      "execution_count": null,
      "outputs": [
        {
          "output_type": "stream",
          "text": [
            "Statistiques d'occurence de code1\n"
          ],
          "name": "stdout"
        },
        {
          "output_type": "display_data",
          "data": {
            "image/png": "[encoded data removed]",
            "text/plain": [
              "<Figure size 432x288 with 1 Axes>"
            ]
          },
          "metadata": {
            "tags": [],
            "needs_background": "light"
          }
        }
      ]
    },
    {
      "cell_type": "markdown",
      "metadata": {
        "id": "jc5G_Bs08EVh"
      },
      "source": [
        "Pour code1 on constate que les lettres R, H et X sont les plus fréquentes, on peut donc supposer que la lettre E (la lettre la plus fréquente dans un texte français) est remplacée par R, H ou X."
      ]
    },
    {
      "cell_type": "code",
      "metadata": {
        "colab": {
          "base_uri": "https://localhost:8080/",
          "height": 299
        },
        "id": "OCSWM1eY8F7f",
        "outputId": "0e7f7e35-2e6e-4f35-9d39-b9d51f7d5549"
      },
      "source": [
        "print('Statistiques d\\'occurence de code2' )\n",
        "cc.affiche_stat(code2)"
      ],
      "execution_count": null,
      "outputs": [
        {
          "output_type": "stream",
          "text": [
            "Statistiques d'occurence de code2\n"
          ],
          "name": "stdout"
        },
        {
          "output_type": "display_data",
          "data": {
            "image/png": "[encoded data removed]",
            "text/plain": [
              "<Figure size 432x288 with 1 Axes>"
            ]
          },
          "metadata": {
            "tags": [],
            "needs_background": "light"
          }
        }
      ]
    },
    {
      "cell_type": "markdown",
      "metadata": {
        "id": "2wKIb80Y8PSQ"
      },
      "source": [
        "Pour code2 on constate que les lettres S et F sont susceptibles d’être la lettre E, d’après le graphique ci-dessus."
      ]
    },
    {
      "cell_type": "markdown",
      "metadata": {
        "id": "qgwr-_Wb9qnw"
      },
      "source": [
        "La première lettre de code2 est S et elle est la deuxième lettre du message crypté, c’est donc fort probable que ça soit une voyelle, et donc la lettre E dans le message clair.\n",
        "\n",
        "En prenant S comme le crypté de E dans code2, on suppose ainsi que la clé utilisée est 14. En utilisant la fonction *code_cesar*, je trouve comme texte clair : ‘‘ERPORMEEIEEEETLSOSDRDNSORCMENRTCLSR’’\n"
      ]
    },
    {
      "cell_type": "code",
      "metadata": {
        "colab": {
          "base_uri": "https://localhost:8080/"
        },
        "id": "3ff9AI9E-GKC",
        "outputId": "41294bfd-65d5-41fe-9fd0-9d039f1a488f"
      },
      "source": [
        "print(cc.decrypt_cesar(code2,14))"
      ],
      "execution_count": null,
      "outputs": [
        {
          "output_type": "stream",
          "text": [
            "ERPORMEEIEEEETLSOSDRDNSORCMENRTCLSR\n"
          ],
          "name": "stdout"
        }
      ]
    },
    {
      "cell_type": "markdown",
      "metadata": {
        "id": "OiIXjouh-Gmd"
      },
      "source": [
        "Dans code1 si on prend R comme le crypté de E, c à d un code de César de clé 13, le rendu, en considérant le décrypté de code2, n’est pas vraiment lisible. Par contre en prenant H comme le crypté de E, donc un chiffrement de César de clé 3, on a le résultat suivant : \n",
        "\n",
        "‘‘LCYTGAMDVGNRNSPUCNIEEEOJUSOMUPOOOEU’’.\n"
      ]
    },
    {
      "cell_type": "code",
      "metadata": {
        "colab": {
          "base_uri": "https://localhost:8080/"
        },
        "id": "xNveO9qA-k4x",
        "outputId": "7bee386f-e205-4f3a-86c8-307b9aaa7837"
      },
      "source": [
        "print(cc.decrypt_cesar(code1,3))"
      ],
      "execution_count": null,
      "outputs": [
        {
          "output_type": "stream",
          "text": [
            "LCYTGAMDVGNRNSPUCNIEEEOJUSOMUPOOOEU\n"
          ],
          "name": "stdout"
        }
      ]
    },
    {
      "cell_type": "markdown",
      "metadata": {
        "id": "C1oXBSu8-lID"
      },
      "source": [
        "Le décrypté final est :\n",
        "\n",
        "* Décrypté de code1 : LCYTGAMDVGNRNSPUCNIEEEOJUSOMUPOOOEU\n",
        "* Décrypté de code1 : ERPORMEEIEEEETLSOSDRDNSORCMENRTCLSR\n",
        "\n",
        "En lisant colonne par colonne on trouve le message clair suivant :\n",
        "\n",
        "‘‘LE CRYRTOGRAMME DE VIGENERE NEST PLUS CONSIDERE DE NOS JOURS COMME UN PROTOCOLE SUR’’"
      ]
    }
  ]
}